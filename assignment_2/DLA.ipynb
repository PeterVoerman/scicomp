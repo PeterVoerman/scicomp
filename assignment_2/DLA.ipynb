{
 "cells": [
  {
   "cell_type": "code",
   "execution_count": 1,
   "metadata": {},
   "outputs": [],
   "source": [
    "import numpy as np\n",
    "import matplotlib.pyplot as plt\n",
    "import pickle"
   ]
  },
  {
   "cell_type": "code",
   "execution_count": 2,
   "metadata": {},
   "outputs": [
    {
     "name": "stdout",
     "output_type": "stream",
     "text": [
      "[[0.  0.  0.  0.  0. ]\n",
      " [0.2 0.2 0.2 0.2 0.2]\n",
      " [0.4 0.4 0.4 0.4 0.4]\n",
      " [0.6 0.6 0.6 0.6 0.6]\n",
      " [0.8 0.8 0.8 0.8 0.8]]\n"
     ]
    }
   ],
   "source": [
    "\n",
    "N = 5\n",
    "grid = np.array([np.array([x/N for y in range(N)]) for x in range(N)])\n",
    "print(grid)"
   ]
  },
  {
   "cell_type": "code",
   "execution_count": 51,
   "metadata": {},
   "outputs": [],
   "source": [
    "def sink_check(sinks, x, y):\n",
    "    if sinks == []:\n",
    "        return False\n",
    "    if (x,y) in sinks:\n",
    "            return True\n",
    "    return False\n",
    "\n",
    "\n",
    "def new_growth_candidates(new_clusteree, growth_candidates, N):\n",
    "    \n",
    "    if new_clusteree not in growth_candidates:\n",
    "        raise 'Oi kan niet'\n",
    "    \n",
    "    growth_candidates.remove(new_clusteree)\n",
    "    if new_clusteree[0] != 0:\n",
    "        if (new_clusteree[0]-1,new_clusteree[1]) not in growth_candidates:\n",
    "            growth_candidates.append((new_clusteree[0]-1,new_clusteree[1]))\n",
    "    if new_clusteree[0] != N-1:\n",
    "        if (new_clusteree[0]+1,new_clusteree[1]) not in growth_candidates:\n",
    "            growth_candidates.append((new_clusteree[0]+1,new_clusteree[1]))\n",
    "    if new_clusteree[1] != 0:\n",
    "        if (new_clusteree[0],new_clusteree[1]-1) not in growth_candidates:\n",
    "            growth_candidates.append((new_clusteree[0],new_clusteree[1]-1))\n",
    "    if new_clusteree[1] != N-1:\n",
    "        if (new_clusteree[0],new_clusteree[1]+1) not in growth_candidates:\n",
    "            growth_candidates.append((new_clusteree[0],new_clusteree[1]+1))\n",
    "        \n",
    "    return growth_candidates\n",
    "\n",
    "\n",
    "def successive_over_relaxation(grid, cluster, omega = 1):\n",
    "    counter = 0\n",
    "    delta = 1\n",
    "\n",
    "    while delta > 1e-5 and delta < 1e5 and counter < 1e4:\n",
    "        new_grid = grid.copy()\n",
    "        new_grid[-1] = 1\n",
    "        for y in range(1, N-1):\n",
    "            new_grid[y][0] = 0.25 * omega * (grid[y + 1][0] + grid[y - 1][0] + grid[y][1] + grid[y][-1]) + (1 - omega) * grid[y][0] if (y,0) not in cluster else 0\n",
    "            for x in range(1, N-1):\n",
    "                new_grid[y][x] = (1 - omega) * grid[y][x] + omega * 0.25 * (grid[y + 1][x] + new_grid[y - 1][x] + grid[y][x + 1] + new_grid[y][x - 1]) if (y,x) not in cluster else 0\n",
    "            new_grid[y][-1] = 0.25 * omega * (grid[y + 1][-1] + new_grid[y - 1][-1] + grid[y][-2] + new_grid[y][0]) + (1 - omega) * grid[y][-1] if (y,N-1) not in cluster else 0\n",
    "        \n",
    "        delta = max(abs(new_grid - grid).flatten())\n",
    "\n",
    "        grid = new_grid.copy()\n",
    "\n",
    "        counter += 1\n",
    "    \n",
    "    return grid\n",
    "\n",
    "        # growth_chance = []\n",
    "        # for coord in growth_candidates:\n",
    "        #     growth_chance.append(grid[coord[0]][coord[1]])\n",
    "\n",
    "    \n",
    "        # if all(x == growth_chance[0] for x in growth_chance) and growth_chance[0] == 0.0:\n",
    "        #     for index in range(len(growth_chance)):\n",
    "        #         growth_chance[index] = 1\n",
    "\n",
    "\n",
    "        # sum_chance = 0\n",
    "        # for x in growth_chance:\n",
    "        #     sum_chance += x ** eta\n",
    "\n",
    "        # growth_chance_norm = [float(x**eta)/sum_chance for x in growth_chance]\n",
    "\n",
    "        \n",
    "        # new_growth_index = np.random.choice(np.arange(len(growth_candidates)), 1, p=growth_chance_norm)\n",
    "        # cluster.append(growth_candidates[new_growth_index[0]])\n",
    "        # growth_candidates = new_growth_candidates(growth_candidates[new_growth_index[0]], growth_candidates, N)\n",
    "\n",
    "        # grid_list.append(grid.copy())"
   ]
  },
  {
   "cell_type": "code",
   "execution_count": 52,
   "metadata": {},
   "outputs": [],
   "source": [
    "def find_neighbors(cluster, N):\n",
    "    neighbors = set([])\n",
    "\n",
    "    for coord in cluster:\n",
    "        if coord[0] != 0:\n",
    "            neighbors.add((coord[0]-1,coord[1]))\n",
    "        if coord[0] != N-1:\n",
    "            neighbors.add((coord[0]+1,coord[1]))\n",
    "        if coord[1] != 0:\n",
    "            neighbors.add((coord[0],coord[1]-1))\n",
    "        if coord[1] != N-1:\n",
    "            neighbors.add((coord[0],coord[1]+1))\n",
    "\n",
    "    for coord in cluster:\n",
    "        if coord in neighbors:\n",
    "            neighbors.remove(coord)\n",
    "\n",
    "    return neighbors\n"
   ]
  },
  {
   "cell_type": "code",
   "execution_count": 56,
   "metadata": {},
   "outputs": [
    {
     "name": "stdout",
     "output_type": "stream",
     "text": [
      "t = 99\r"
     ]
    }
   ],
   "source": [
    "N = 50\n",
    "growth_steps = 100\n",
    "eta = 1\n",
    "\n",
    "grid = np.zeros((N,N))\n",
    "grid = np.array([np.array([x/N for y in range(N)]) for x in range(N)])\n",
    "\n",
    "cluster = [(0, N // 2)]\n",
    "\n",
    "for t in range(growth_steps):\n",
    "    print(f\"t = {t}\", end='\\r')\n",
    "\n",
    "    grid = successive_over_relaxation(grid, cluster)\n",
    "\n",
    "    probability_sum = 0\n",
    "    probability_list = []\n",
    "\n",
    "    growth_candidates = list(find_neighbors(cluster, N))\n",
    "    for coord in growth_candidates:\n",
    "        probability_sum += grid[coord[0]][coord[1]] ** eta\n",
    "        probability_list.append(grid[coord[0]][coord[1]] ** eta)\n",
    "\n",
    "    probability_list = [x / probability_sum for x in probability_list]\n",
    "\n",
    "    new_coords = np.random.choice(range(len(growth_candidates)), 1, p=probability_list)[0]\n",
    "    cluster.append(growth_candidates[new_coords])\n"
   ]
  },
  {
   "cell_type": "code",
   "execution_count": 57,
   "metadata": {},
   "outputs": [
    {
     "data": {
      "text/plain": [
       "<matplotlib.image.AxesImage at 0x7f97b35fcd30>"
      ]
     },
     "execution_count": 57,
     "metadata": {},
     "output_type": "execute_result"
    },
    {
     "data": {
      "image/png": "[encoded data removed]",
      "text/plain": [
       "<Figure size 432x288 with 1 Axes>"
      ]
     },
     "metadata": {
      "needs_background": "light"
     },
     "output_type": "display_data"
    }
   ],
   "source": [
    "for coord in cluster:\n",
    "    grid[coord[0]][coord[1]] = None\n",
    "\n",
    "plt.imshow(grid, origin='lower', cmap='gist_rainbow')"
   ]
  },
  {
   "cell_type": "code",
   "execution_count": null,
   "metadata": {},
   "outputs": [],
   "source": []
  }
 ],
 "metadata": {
  "kernelspec": {
   "display_name": "base",
   "language": "python",
   "name": "python3"
  },
  "language_info": {
   "codemirror_mode": {
    "name": "ipython",
    "version": 3
   },
   "file_extension": ".py",
   "mimetype": "text/x-python",
   "name": "python",
   "nbconvert_exporter": "python",
   "pygments_lexer": "ipython3",
   "version": "3.10.6"
  },
  "orig_nbformat": 4,
  "vscode": {
   "interpreter": {
    "hash": "032600c49f53bb543530dc83b9ffea52594e00edcad3bbd46dc67dbef5ba4258"
   }
  }
 },
 "nbformat": 4,
 "nbformat_minor": 2
}
