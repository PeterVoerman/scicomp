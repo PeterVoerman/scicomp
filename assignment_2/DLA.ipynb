{
 "cells": [
  {
   "cell_type": "code",
   "execution_count": 2,
   "metadata": {},
   "outputs": [],
   "source": [
    "import numpy as np\n",
    "import matplotlib.pyplot as plt\n",
    "import pickle"
   ]
  },
  {
   "cell_type": "code",
   "execution_count": 3,
   "metadata": {},
   "outputs": [
    {
     "name": "stdout",
     "output_type": "stream",
     "text": [
      "[[0.  0.  0.  0.  0. ]\n",
      " [0.2 0.2 0.2 0.2 0.2]\n",
      " [0.4 0.4 0.4 0.4 0.4]\n",
      " [0.6 0.6 0.6 0.6 0.6]\n",
      " [0.8 0.8 0.8 0.8 0.8]]\n"
     ]
    }
   ],
   "source": [
    "\n",
    "N = 5\n",
    "grid = np.array([np.array([x/N for y in range(N)]) for x in range(N)])\n",
    "print(grid)"
   ]
  },
  {
   "cell_type": "code",
   "execution_count": 4,
   "metadata": {},
   "outputs": [],
   "source": [
    "def sink_check(sinks, x, y):\n",
    "    return False\n",
    "    if sinks == []:\n",
    "        return False\n",
    "    if (x,y) in sinks:\n",
    "            return True\n",
    "    return False\n",
    "\n",
    "\n",
    "def new_growth_candidates(new_clusteree, growth_candidates, N):\n",
    "    \n",
    "    if new_clusteree not in growth_candidates:\n",
    "        raise 'Oi kan niet'\n",
    "    \n",
    "    growth_candidates.remove(new_clusteree)\n",
    "    if new_clusteree[0] != 0:\n",
    "        if (new_clusteree[0]-1,new_clusteree[1]) not in growth_candidates:\n",
    "            growth_candidates.append((new_clusteree[0]-1,new_clusteree[1]))\n",
    "    if new_clusteree[0] != N-1:\n",
    "        if (new_clusteree[0]+1,new_clusteree[1]) not in growth_candidates:\n",
    "            growth_candidates.append((new_clusteree[0]+1,new_clusteree[1]))\n",
    "    if new_clusteree[1] != 0:\n",
    "        if (new_clusteree[0],new_clusteree[1]-1) not in growth_candidates:\n",
    "            growth_candidates.append((new_clusteree[0],new_clusteree[1]-1))\n",
    "    if new_clusteree[1] != N-1:\n",
    "        if (new_clusteree[0],new_clusteree[1]+1) not in growth_candidates:\n",
    "            growth_candidates.append((new_clusteree[0],new_clusteree[1]+1))\n",
    "        \n",
    "    return growth_candidates\n",
    "\n",
    "\n",
    "def successive_over_relaxation(omega=1, eta=1, growth_steps=100, N=100, plot_grid=False, use_pickl=True):\n",
    "    if use_pickl:\n",
    "        with open(\"no_sink_N100.pkl\", 'rb') as save_file:\n",
    "            grid = pickle.load(save_file)\n",
    "\n",
    "    if True:\n",
    "        a = 5\n",
    "    else:\n",
    "        grid = np.zeros((N, N))\n",
    "    # grid = np.array([np.array([y/(N) for x in range(N)]) for y in range(N)])\n",
    "    \n",
    "    cluster = [(int(N/2),0)]\n",
    "    growth_candidates = [cluster[0]]\n",
    "    growth_candidates = new_growth_candidates(cluster[0], growth_candidates, N)\n",
    "\n",
    "    grid_list = []\n",
    "    for i in range(growth_steps):\n",
    "        counter = 0\n",
    "        delta = 1\n",
    "        delta_list = []\n",
    "\n",
    "        while delta > 1e-5 and delta < 1e5 and counter < 1e4:\n",
    "            print(f'{len(grid_list)} {delta:.2E} {counter}', end='\\r')\n",
    "            # print(f\"{max(abs(grid_list[-1] - grid_list[-2]).flatten()):.7f}\", end='\\r')\n",
    "            new_grid = grid.copy()\n",
    "            new_grid[-1] = 1\n",
    "            for y in range(1, N-1):\n",
    "                new_grid[y][0] = 0.25 * omega * (grid[y + 1][0] + grid[y - 1][0] + grid[y][1] + grid[y][-1]) + (1 - omega) * grid[y][0] if sink_check(growth_candidates, 0, y) == False else 0\n",
    "                for x in range(1, N-1):\n",
    "                    new_grid[y][x] = (1 - omega) * grid[y][x] + omega * 0.25 * (grid[y + 1][x] + new_grid[y - 1][x] + grid[y][x + 1] + new_grid[y][x - 1]) if sink_check(growth_candidates, x, y) == False else 0\n",
    "                new_grid[y][-1] = 0.25 * omega * (grid[y + 1][-1] + new_grid[y - 1][-1] + grid[y][-2] + new_grid[y][0]) + (1 - omega) * grid[y][-1] if sink_check(growth_candidates, x + 1, y) == False else 0\n",
    "            \n",
    "            delta = max(abs(new_grid - grid).flatten())\n",
    "\n",
    "            grid = new_grid.copy()\n",
    "            delta_list.append(delta)\n",
    "\n",
    "            counter += 1\n",
    "            # if delta <= 1e-5:\n",
    "            #     with open(\"no_sink_N100.pkl\", 'wb') as save_file:\n",
    "            #         pickle.dump(grid, save_file)\n",
    "            #     quit()\n",
    "        \n",
    "        growth_chance = []\n",
    "        for coord in growth_candidates:\n",
    "            growth_chance.append(grid[coord[0]][coord[1]])\n",
    "\n",
    "    \n",
    "        if all(x == growth_chance[0] for x in growth_chance) and growth_chance[0] == 0.0:\n",
    "            for index in range(len(growth_chance)):\n",
    "                growth_chance[index] = 1\n",
    "\n",
    "\n",
    "        sum_chance = 0\n",
    "        for x in growth_chance:\n",
    "            sum_chance += x ** eta\n",
    "\n",
    "        growth_chance_norm = [float(x**eta)/sum_chance for x in growth_chance]\n",
    "\n",
    "        \n",
    "        new_growth_index = np.random.choice(np.arange(len(growth_candidates)), 1, p=growth_chance_norm)\n",
    "        cluster.append(growth_candidates[new_growth_index[0]])\n",
    "        growth_candidates = new_growth_candidates(growth_candidates[new_growth_index[0]], growth_candidates, N)\n",
    "\n",
    "        grid_list.append(grid.copy())\n",
    "    if plot_grid:\n",
    "        return grid_list[-1], cluster\n",
    "    return delta_list"
   ]
  },
  {
   "cell_type": "code",
   "execution_count": 6,
   "metadata": {},
   "outputs": [
    {
     "name": "stdout",
     "output_type": "stream",
     "text": [
      "[[0.         0.         0.         ... 0.         0.         0.        ]\n",
      " [0.00990536 0.00990553 0.00990571 ... 0.00990601 0.00990578 0.00990556]\n",
      " [0.0198111  0.01981149 0.01981189 ... 0.01981248 0.01981203 0.01981156]\n",
      " ...\n",
      " [0.97943043 0.97943107 0.97943165 ... 0.97943221 0.97943166 0.97943107]\n",
      " [0.98971521 0.98971555 0.98971586 ... 0.98971614 0.98971586 0.98971556]\n",
      " [1.         1.         1.         ... 1.         1.         1.        ]]\n"
     ]
    },
    {
     "data": {
      "image/png": "[encoded data removed]",
      "text/plain": [
       "<Figure size 432x288 with 1 Axes>"
      ]
     },
     "metadata": {
      "needs_background": "light"
     },
     "output_type": "display_data"
    }
   ],
   "source": [
    "grid, cluster = successive_over_relaxation(omega=1.5, eta=100, growth_steps=100, N=100, plot_grid=True, use_pickl=True)\n",
    "print(grid)\n",
    "for coord in cluster:\n",
    "    grid[coord[1]][coord[0]] = 1\n",
    "plt.imshow(grid, origin='lower')#, cmap='magma')\n",
    "plt.show()"
   ]
  },
  {
   "cell_type": "code",
   "execution_count": null,
   "metadata": {},
   "outputs": [],
   "source": []
  }
 ],
 "metadata": {
  "kernelspec": {
   "display_name": "base",
   "language": "python",
   "name": "python3"
  },
  "language_info": {
   "codemirror_mode": {
    "name": "ipython",
    "version": 3
   },
   "file_extension": ".py",
   "mimetype": "text/x-python",
   "name": "python",
   "nbconvert_exporter": "python",
   "pygments_lexer": "ipython3",
   "version": "3.9.7"
  },
  "orig_nbformat": 4,
  "vscode": {
   "interpreter": {
    "hash": "032600c49f53bb543530dc83b9ffea52594e00edcad3bbd46dc67dbef5ba4258"
   }
  }
 },
 "nbformat": 4,
 "nbformat_minor": 2
}
